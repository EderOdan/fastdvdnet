{
  "nbformat": 4,
  "nbformat_minor": 0,
  "metadata": {
    "colab": {
      "name": "graduation design2",
      "provenance": [],
      "collapsed_sections": [],
      "toc_visible": true,
      "mount_file_id": "1SOaLHBnubHvChC7i1l360dAjERJCfDyz",
      "authorship_tag": "ABX9TyPVpVRaT8J0pqNRne1ktuRT",
      "include_colab_link": true
    },
    "kernelspec": {
      "name": "python3",
      "display_name": "Python 3"
    },
    "accelerator": "GPU"
  },
  "cells": [
    {
      "cell_type": "markdown",
      "metadata": {
        "id": "view-in-github",
        "colab_type": "text"
      },
      "source": [
        "<a href=\"https://colab.research.google.com/github/EderOdan/fastdvdnet/blob/test/graduation_design2.ipynb\" target=\"_parent\"><img src=\"https://colab.research.google.com/assets/colab-badge.svg\" alt=\"Open In Colab\"/></a>"
      ]
    },
    {
      "cell_type": "markdown",
      "metadata": {
        "id": "YEsNqiH7tOCS",
        "colab_type": "text"
      },
      "source": [
        "# 训练部分"
      ]
    },
    {
      "cell_type": "code",
      "metadata": {
        "id": "hZYqiuvAtZiE",
        "colab_type": "code",
        "outputId": "77f7e9ed-20e1-4bd6-92c5-2eca3f5506ec",
        "colab": {
          "base_uri": "https://localhost:8080/",
          "height": 50
        }
      },
      "source": [
        "%load_ext tensorboard"
      ],
      "execution_count": 0,
      "outputs": [
        {
          "output_type": "stream",
          "text": [
            "The tensorboard extension is already loaded. To reload it, use:\n",
            "  %reload_ext tensorboard\n"
          ],
          "name": "stdout"
        }
      ]
    },
    {
      "cell_type": "code",
      "metadata": {
        "id": "8qUm5eAdxbRa",
        "colab_type": "code",
        "colab": {}
      },
      "source": [
        "!cp /content/drive/My\\ Drive/graduation_design/fastdvdnet/data/ground-of-truth_15-480p-3s_3/frame10.png /content/drive/My\\ Drive/graduation_design/fastdvdnet/dataset/val/val3.png"
      ],
      "execution_count": 0,
      "outputs": []
    },
    {
      "cell_type": "code",
      "metadata": {
        "id": "YuCIqUTOzO3E",
        "colab_type": "code",
        "outputId": "b71c733f-03da-4d85-bb2a-d30036c8344d",
        "colab": {
          "base_uri": "https://localhost:8080/",
          "height": 218
        }
      },
      "source": [
        "!wget https://github.com/m-tassano/fastdvdnet/blob/master/requirements.yml\n",
        "!conda env create -f requirements.yml -n fastdvdnet"
      ],
      "execution_count": 0,
      "outputs": [
        {
          "output_type": "stream",
          "text": [
            "--2020-05-30 23:03:51--  https://github.com/m-tassano/fastdvdnet/blob/master/requirements.yml\n",
            "Resolving github.com (github.com)... 13.250.177.223\n",
            "Connecting to github.com (github.com)|13.250.177.223|:443... connected.\n",
            "HTTP request sent, awaiting response... 200 OK\n",
            "Length: unspecified [text/html]\n",
            "Saving to: ‘requirements.yml.1’\n",
            "\n",
            "\rrequirements.yml.1      [<=>                 ]       0  --.-KB/s               \rrequirements.yml.1      [ <=>                ]  71.55K  --.-KB/s    in 0.005s  \n",
            "\n",
            "2020-05-30 23:03:51 (15.4 MB/s) - ‘requirements.yml.1’ saved [73266]\n",
            "\n",
            "/bin/bash: conda: command not found\n"
          ],
          "name": "stdout"
        }
      ]
    },
    {
      "cell_type": "code",
      "metadata": {
        "id": "fM8Wgc4M1NH7",
        "colab_type": "code",
        "outputId": "5c84817f-2922-4060-f21e-593b3bb362c1",
        "colab": {
          "base_uri": "https://localhost:8080/",
          "height": 154
        }
      },
      "source": [
        "!pip install --extra-index-url https://developer.download.nvidia.com/compute/redist/cuda/10.0 nvidia-dali==0.10.0"
      ],
      "execution_count": 0,
      "outputs": [
        {
          "output_type": "stream",
          "text": [
            "Looking in indexes: https://pypi.org/simple, https://developer.download.nvidia.com/compute/redist/cuda/10.0\n",
            "Collecting nvidia-dali==0.10.0\n",
            "\u001b[?25l  Downloading https://developer.download.nvidia.com/compute/redist/cuda/10.0/nvidia-dali/nvidia_dali-0.10.0-743881-cp36-cp36m-manylinux1_x86_64.whl (29.9MB)\n",
            "\u001b[K     |████████████████████████████████| 29.9MB 103kB/s \n",
            "\u001b[?25hRequirement already satisfied: future in /usr/local/lib/python3.6/dist-packages (from nvidia-dali==0.10.0) (0.16.0)\n",
            "Installing collected packages: nvidia-dali\n",
            "Successfully installed nvidia-dali-0.10.0\n"
          ],
          "name": "stdout"
        }
      ]
    },
    {
      "cell_type": "code",
      "metadata": {
        "id": "Huujs0LPt-ac",
        "colab_type": "code",
        "outputId": "dee5252d-03e6-4b5c-a55f-815d9e566955",
        "colab": {
          "base_uri": "https://localhost:8080/",
          "height": 837
        }
      },
      "source": [
        "%reload_ext tensorboard\n",
        "%tensorboard --logdir './log/train'"
      ],
      "execution_count": 0,
      "outputs": []
    },
    {
      "cell_type": "code",
      "metadata": {
        "id": "G8vTEJGwuW6X",
        "colab_type": "code",
        "outputId": "12c5907d-d625-4b03-8685-98f4f66f6e94",
        "colab": {
          "base_uri": "https://localhost:8080/",
          "height": 1000
        }
      },
      "source": [
        "!python train_fastdvdnet.py \\\n",
        "\t--trainset_dir dataset/gt \\\n",
        "\t--valset_dir dataset/val \\\n",
        "\t--log_dir logs"
      ],
      "execution_count": 0,
      "outputs": [
        {
          "output_type": "stream",
          "text": [
            "\n",
            "### Training FastDVDnet denoiser model ###\n",
            "> Parameters:\n",
            "\tbatch_size: 64\n",
            "\tepochs: 80\n",
            "\tresume_training: False\n",
            "\tmilestone: [50, 60]\n",
            "\tlr: 0.001\n",
            "\tno_orthog: False\n",
            "\tsave_every: 10\n",
            "\tsave_every_epochs: 5\n",
            "\tnoise_ival: [0.0196078431372549, 0.21568627450980393]\n",
            "\tval_noiseL: 0.09803921568627451\n",
            "\tpatch_size: 96\n",
            "\ttemp_patch_size: 5\n",
            "\tmax_number_patches: 256000\n",
            "\tlog_dir: logs\n",
            "\ttrainset_dir: dataset/gt\n",
            "\tvalset_dir: dataset/val\n",
            "\n",
            "\n",
            "> Loading datasets ...\n",
            "\tOpen sequence in folder:  dataset/val/bear\n",
            "Traceback (most recent call last):\n",
            "  File \"train_fastdvdnet.py\", line 212, in <module>\n",
            "    main(**vars(argspar))\n",
            "  File \"train_fastdvdnet.py\", line 38, in main\n",
            "    temp_stride=3)\n",
            "  File \"/content/drive/My Drive/graduation_design/fastdvdnet/dataloaders.py\", line 100, in __init__\n",
            "    self.pipeline.build()\n",
            "  File \"/usr/local/lib/python3.6/dist-packages/nvidia/dali/pipeline.py\", line 230, in build\n",
            "    self._pipe.Build(self._names_and_devices)\n",
            "RuntimeError: [/opt/dali/dali/pipeline/operators/reader/video_reader_op.h:51] [/opt/dali/dali/pipeline/operators/reader/loader/video_loader.cc:59] Could not open file dataset/gt/.ipynb_checkpoints\n",
            "Stacktrace (39 entries):\n",
            "[frame 0]: /usr/local/lib/python3.6/dist-packages/nvidia/dali/libdali.so(+0xa953e) [0x7f53b70d553e]\n",
            "[frame 1]: /usr/local/lib/python3.6/dist-packages/nvidia/dali/libdali.so(+0x1624cc) [0x7f53b718e4cc]\n",
            "[frame 2]: /usr/local/lib/python3.6/dist-packages/nvidia/dali/libdali.so(+0x16791f) [0x7f53b719391f]\n",
            "[frame 3]: /usr/local/lib/python3.6/dist-packages/nvidia/dali/libdali.so(+0x190ef2) [0x7f53b71bcef2]\n",
            "[frame 4]: /usr/local/lib/python3.6/dist-packages/nvidia/dali/libdali.so(+0x191c32) [0x7f53b71bdc32]\n",
            "[frame 5]: /usr/local/lib/python3.6/dist-packages/nvidia/dali/libdali.so(std::_Function_handler<std::unique_ptr<dali::OperatorBase, std::default_delete<dali::OperatorBase> > (dali::OpSpec const&), std::unique_ptr<dali::OperatorBase, std::default_delete<dali::OperatorBase> > (*)(dali::OpSpec const&)>::_M_invoke(std::_Any_data const&, dali::OpSpec const&)+0xc) [0x7f53b7143c9c]\n",
            "[frame 6]: /usr/local/lib/python3.6/dist-packages/nvidia/dali/libdali.so(+0x1dacab) [0x7f53b7206cab]\n",
            "[frame 7]: /usr/local/lib/python3.6/dist-packages/nvidia/dali/libdali.so(dali::InstantiateOperator(dali::OpSpec const&)+0x428) [0x7f53b7205d48]\n",
            "[frame 8]: /usr/local/lib/python3.6/dist-packages/nvidia/dali/libdali.so(dali::OpGraph::InstantiateOperators()+0x9c) [0x7f53b710107c]\n",
            "[frame 9]: /usr/local/lib/python3.6/dist-packages/nvidia/dali/libdali.so(dali::Pipeline::Build(std::vector<std::pair<std::string, std::string>, std::allocator<std::pair<std::string, std::string> > >)+0xe78) [0x7f53b7277f68]\n",
            "[frame 10]: /usr/local/lib/python3.6/dist-packages/nvidia/dali/backend_impl.cpython-36m-x86_64-linux-gnu.so(+0x53978) [0x7f53ba438978]\n",
            "[frame 11]: /usr/local/lib/python3.6/dist-packages/nvidia/dali/backend_impl.cpython-36m-x86_64-linux-gnu.so(+0x12c91) [0x7f53ba3f7c91]\n",
            "[frame 12]: python3(_PyCFunction_FastCallDict+0x35c) [0x5669ac]\n",
            "[frame 13]: python3() [0x50a5c3]\n",
            "[frame 14]: python3(_PyEval_EvalFrameDefault+0x444) [0x50bfb4]\n",
            "[frame 15]: python3() [0x509758]\n",
            "[frame 16]: python3() [0x50a48d]\n",
            "[frame 17]: python3(_PyEval_EvalFrameDefault+0x444) [0x50bfb4]\n",
            "[frame 18]: python3() [0x507d64]\n",
            "[frame 19]: python3(_PyFunction_FastCallDict+0x2e2) [0x509042]\n",
            "[frame 20]: python3() [0x594931]\n",
            "[frame 21]: python3() [0x549e5f]\n",
            "[frame 22]: python3() [0x5513d1]\n",
            "[frame 23]: python3(_PyObject_FastCallKeywords+0x19c) [0x5a9cbc]\n",
            "[frame 24]: python3() [0x50a5c3]\n",
            "[frame 25]: python3(_PyEval_EvalFrameDefault+0x1226) [0x50cd96]\n",
            "[frame 26]: python3() [0x507d64]\n",
            "[frame 27]: python3() [0x588e5c]\n",
            "[frame 28]: python3(PyObject_Call+0x3e) [0x59fc4e]\n",
            "[frame 29]: python3(_PyEval_EvalFrameDefault+0x17e6) [0x50d356]\n",
            "[frame 30]: python3() [0x507d64]\n",
            "[frame 31]: python3(PyEval_EvalCode+0x23) [0x50ae13]\n",
            "[frame 32]: python3() [0x634c82]\n",
            "[frame 33]: python3(PyRun_FileExFlags+0x97) [0x634d37]\n",
            "[frame 34]: python3(PyRun_SimpleFileExFlags+0x17f) [0x6384ef]\n",
            "[frame 35]: python3(Py_Main+0x591) [0x639091]\n",
            "[frame 36]: python3(main+0xe0) [0x4b0d00]\n",
            "[frame 37]: /lib/x86_64-linux-gnu/libc.so.6(__libc_start_main+0xe7) [0x7f5426633b97]\n",
            "[frame 38]: python3(_start+0x2a) [0x5b250a]\n",
            "\n",
            "Stacktrace (37 entries):\n",
            "[frame 0]: /usr/local/lib/python3.6/dist-packages/nvidia/dali/libdali.so(+0xa953e) [0x7f53b70d553e]\n",
            "[frame 1]: /usr/local/lib/python3.6/dist-packages/nvidia/dali/libdali.so(+0x19112f) [0x7f53b71bd12f]\n",
            "[frame 2]: /usr/local/lib/python3.6/dist-packages/nvidia/dali/libdali.so(+0x191c32) [0x7f53b71bdc32]\n",
            "[frame 3]: /usr/local/lib/python3.6/dist-packages/nvidia/dali/libdali.so(std::_Function_handler<std::unique_ptr<dali::OperatorBase, std::default_delete<dali::OperatorBase> > (dali::OpSpec const&), std::unique_ptr<dali::OperatorBase, std::default_delete<dali::OperatorBase> > (*)(dali::OpSpec const&)>::_M_invoke(std::_Any_data const&, dali::OpSpec const&)+0xc) [0x7f53b7143c9c]\n",
            "[frame 4]: /usr/local/lib/python3.6/dist-packages/nvidia/dali/libdali.so(+0x1dacab) [0x7f53b7206cab]\n",
            "[frame 5]: /usr/local/lib/python3.6/dist-packages/nvidia/dali/libdali.so(dali::InstantiateOperator(dali::OpSpec const&)+0x428) [0x7f53b7205d48]\n",
            "[frame 6]: /usr/local/lib/python3.6/dist-packages/nvidia/dali/libdali.so(dali::OpGraph::InstantiateOperators()+0x9c) [0x7f53b710107c]\n",
            "[frame 7]: /usr/local/lib/python3.6/dist-packages/nvidia/dali/libdali.so(dali::Pipeline::Build(std::vector<std::pair<std::string, std::string>, std::allocator<std::pair<std::string, std::string> > >)+0xe78) [0x7f53b7277f68]\n",
            "[frame 8]: /usr/local/lib/python3.6/dist-packages/nvidia/dali/backend_impl.cpython-36m-x86_64-linux-gnu.so(+0x53978) [0x7f53ba438978]\n",
            "[frame 9]: /usr/local/lib/python3.6/dist-packages/nvidia/dali/backend_impl.cpython-36m-x86_64-linux-gnu.so(+0x12c91) [0x7f53ba3f7c91]\n",
            "[frame 10]: python3(_PyCFunction_FastCallDict+0x35c) [0x5669ac]\n",
            "[frame 11]: python3() [0x50a5c3]\n",
            "[frame 12]: python3(_PyEval_EvalFrameDefault+0x444) [0x50bfb4]\n",
            "[frame 13]: python3() [0x509758]\n",
            "[frame 14]: python3() [0x50a48d]\n",
            "[frame 15]: python3(_PyEval_EvalFrameDefault+0x444) [0x50bfb4]\n",
            "[frame 16]: python3() [0x507d64]\n",
            "[frame 17]: python3(_PyFunction_FastCallDict+0x2e2) [0x509042]\n",
            "[frame 18]: python3() [0x594931]\n",
            "[frame 19]: python3() [0x549e5f]\n",
            "[frame 20]: python3() [0x5513d1]\n",
            "[frame 21]: python3(_PyObject_FastCallKeywords+0x19c) [0x5a9cbc]\n",
            "[frame 22]: python3() [0x50a5c3]\n",
            "[frame 23]: python3(_PyEval_EvalFrameDefault+0x1226) [0x50cd96]\n",
            "[frame 24]: python3() [0x507d64]\n",
            "[frame 25]: python3() [0x588e5c]\n",
            "[frame 26]: python3(PyObject_Call+0x3e) [0x59fc4e]\n",
            "[frame 27]: python3(_PyEval_EvalFrameDefault+0x17e6) [0x50d356]\n",
            "[frame 28]: python3() [0x507d64]\n",
            "[frame 29]: python3(PyEval_EvalCode+0x23) [0x50ae13]\n",
            "[frame 30]: python3() [0x634c82]\n",
            "[frame 31]: python3(PyRun_FileExFlags+0x97) [0x634d37]\n",
            "[frame 32]: python3(PyRun_SimpleFileExFlags+0x17f) [0x6384ef]\n",
            "[frame 33]: python3(Py_Main+0x591) [0x639091]\n",
            "[frame 34]: python3(main+0xe0) [0x4b0d00]\n",
            "[frame 35]: /lib/x86_64-linux-gnu/libc.so.6(__libc_start_main+0xe7) [0x7f5426633b97]\n",
            "[frame 36]: python3(_start+0x2a) [0x5b250a]\n",
            "\n"
          ],
          "name": "stdout"
        }
      ]
    },
    {
      "cell_type": "code",
      "metadata": {
        "id": "gcZBERY-toK1",
        "colab_type": "code",
        "outputId": "b5340f47-f16a-48c3-cdc3-d2e9b602b11b",
        "colab": {
          "base_uri": "https://localhost:8080/",
          "height": 235
        }
      },
      "source": [
        "!wget https://bin.equinox.io/c/4VmDzA7iaHb/ngrok-stable-linux-amd64.zip\n",
        "!unzip ngrok-stable-linux-amd64.zip"
      ],
      "execution_count": 0,
      "outputs": [
        {
          "output_type": "stream",
          "text": [
            "--2020-05-30 22:31:58--  https://bin.equinox.io/c/4VmDzA7iaHb/ngrok-stable-linux-amd64.zip\n",
            "Resolving bin.equinox.io (bin.equinox.io)... 3.220.228.61, 34.231.196.161, 107.23.162.152, ...\n",
            "Connecting to bin.equinox.io (bin.equinox.io)|3.220.228.61|:443... connected.\n",
            "HTTP request sent, awaiting response... 200 OK\n",
            "Length: 13773305 (13M) [application/octet-stream]\n",
            "Saving to: ‘ngrok-stable-linux-amd64.zip’\n",
            "\n",
            "ngrok-stable-linux- 100%[===================>]  13.13M  4.68MB/s    in 2.8s    \n",
            "\n",
            "2020-05-30 22:32:02 (4.68 MB/s) - ‘ngrok-stable-linux-amd64.zip’ saved [13773305/13773305]\n",
            "\n",
            "Archive:  ngrok-stable-linux-amd64.zip\n",
            "  inflating: ngrok                   \n"
          ],
          "name": "stdout"
        }
      ]
    },
    {
      "cell_type": "code",
      "metadata": {
        "id": "8Ubap95x2SeF",
        "colab_type": "code",
        "colab": {}
      },
      "source": [
        "!mv dataset/val/val3.png dataset/val/ground-of-truth_15-480p-3s_3/1.png"
      ],
      "execution_count": 0,
      "outputs": []
    },
    {
      "cell_type": "markdown",
      "metadata": {
        "id": "3QS5Qry0iWwg",
        "colab_type": "text"
      },
      "source": [
        "# 事先准备"
      ]
    },
    {
      "cell_type": "markdown",
      "metadata": {
        "id": "RyYWmvDd4Ubm",
        "colab_type": "text"
      },
      "source": [
        "\n",
        "1.   连接云端硬盘\n",
        "2.   cd 到文件目录\n",
        "\n"
      ]
    },
    {
      "cell_type": "code",
      "metadata": {
        "id": "ZgdwxDy5b6zz",
        "colab_type": "code",
        "outputId": "bb7a94e4-4df2-482e-fae7-f4d2cfe540a3",
        "colab": {
          "base_uri": "https://localhost:8080/",
          "height": 205
        }
      },
      "source": [
        "!pip install tensorboardX\n",
        "%cd /content/drive/My Drive/graduation_design/fastdvdnet"
      ],
      "execution_count": 0,
      "outputs": [
        {
          "output_type": "stream",
          "text": [
            "Collecting tensorboardX\n",
            "\u001b[?25l  Downloading https://files.pythonhosted.org/packages/35/f1/5843425495765c8c2dd0784a851a93ef204d314fc87bcc2bbb9f662a3ad1/tensorboardX-2.0-py2.py3-none-any.whl (195kB)\n",
            "\r\u001b[K     |█▊                              | 10kB 23.1MB/s eta 0:00:01\r\u001b[K     |███▍                            | 20kB 29.3MB/s eta 0:00:01\r\u001b[K     |█████                           | 30kB 23.8MB/s eta 0:00:01\r\u001b[K     |██████▊                         | 40kB 19.2MB/s eta 0:00:01\r\u001b[K     |████████▍                       | 51kB 13.6MB/s eta 0:00:01\r\u001b[K     |██████████                      | 61kB 11.7MB/s eta 0:00:01\r\u001b[K     |███████████▊                    | 71kB 11.0MB/s eta 0:00:01\r\u001b[K     |█████████████▍                  | 81kB 11.2MB/s eta 0:00:01\r\u001b[K     |███████████████                 | 92kB 11.3MB/s eta 0:00:01\r\u001b[K     |████████████████▊               | 102kB 11.3MB/s eta 0:00:01\r\u001b[K     |██████████████████▍             | 112kB 11.3MB/s eta 0:00:01\r\u001b[K     |████████████████████            | 122kB 11.3MB/s eta 0:00:01\r\u001b[K     |█████████████████████▊          | 133kB 11.3MB/s eta 0:00:01\r\u001b[K     |███████████████████████▌        | 143kB 11.3MB/s eta 0:00:01\r\u001b[K     |█████████████████████████▏      | 153kB 11.3MB/s eta 0:00:01\r\u001b[K     |██████████████████████████▉     | 163kB 11.3MB/s eta 0:00:01\r\u001b[K     |████████████████████████████▌   | 174kB 11.3MB/s eta 0:00:01\r\u001b[K     |██████████████████████████████▏ | 184kB 11.3MB/s eta 0:00:01\r\u001b[K     |███████████████████████████████▉| 194kB 11.3MB/s eta 0:00:01\r\u001b[K     |████████████████████████████████| 204kB 11.3MB/s \n",
            "\u001b[?25hRequirement already satisfied: protobuf>=3.8.0 in /usr/local/lib/python3.6/dist-packages (from tensorboardX) (3.10.0)\n",
            "Requirement already satisfied: numpy in /usr/local/lib/python3.6/dist-packages (from tensorboardX) (1.18.4)\n",
            "Requirement already satisfied: six in /usr/local/lib/python3.6/dist-packages (from tensorboardX) (1.12.0)\n",
            "Requirement already satisfied: setuptools in /usr/local/lib/python3.6/dist-packages (from protobuf>=3.8.0->tensorboardX) (46.4.0)\n",
            "Installing collected packages: tensorboardX\n",
            "Successfully installed tensorboardX-2.0\n",
            "/content/drive/My Drive/graduation_design/fastdvdnet\n"
          ],
          "name": "stdout"
        }
      ]
    },
    {
      "cell_type": "markdown",
      "metadata": {
        "id": "QaQYE6QLiU0G",
        "colab_type": "text"
      },
      "source": [
        "# 运行fastdvdnet test"
      ]
    },
    {
      "cell_type": "code",
      "metadata": {
        "id": "VF7yuCoS5b0_",
        "colab_type": "code",
        "outputId": "79887c54-2d91-46e3-f970-27989f97cb03",
        "colab": {
          "base_uri": "https://localhost:8080/",
          "height": 373
        }
      },
      "source": [
        "!python test_fastdvdnet.py \\\n",
        "\t--test_path ground-of-truth_15-480p-3s_1 \\\n",
        "\t--noise_sigma 10 \\\n",
        "\t--save_path 15-480p-3s_1_10sigma_result \\\n",
        "\t--max_num_fr_per_seq 45 \\"
      ],
      "execution_count": 0,
      "outputs": [
        {
          "output_type": "stream",
          "text": [
            "\n",
            "### Testing FastDVDnet model ###\n",
            "> Parameters:\n",
            "\tmodel_file: ./model.pth\n",
            "\ttest_path: ground-of-truth_15-480p-3s_1\n",
            "\tsuffix: \n",
            "\tmax_num_fr_per_seq: 45\n",
            "\tnoise_sigma: 0.0392156862745098\n",
            "\tdont_save_results: False\n",
            "\tsave_noisy: False\n",
            "\tno_gpu: False\n",
            "\tsave_path: 15-480p-3s_1_10sigma_result\n",
            "\tgray: False\n",
            "\tcuda: True\n",
            "\n",
            "\n",
            "Loading models ...\n",
            "\tOpen sequence in folder:  ground-of-truth_15-480p-3s_1\n",
            "/content/drive/My Drive/graduation_design/fastdvdnet/utils.py:204: UserWarning: DEPRECATED: skimage.measure.compare_psnr has been moved to skimage.metrics.peak_signal_noise_ratio. It will be removed from skimage.measure in version 0.18.\n",
            "  data_range=data_range)\n"
          ],
          "name": "stdout"
        }
      ]
    },
    {
      "cell_type": "markdown",
      "metadata": {
        "id": "onJAcQcCinfx",
        "colab_type": "text"
      },
      "source": [
        "# 转化格式"
      ]
    },
    {
      "cell_type": "code",
      "metadata": {
        "id": "ME-msNaQlMmY",
        "colab_type": "code",
        "colab": {}
      },
      "source": [
        "!python convert_sequences_mp4.py \\\n",
        "  /content/drive/My\\ Drive/graduation_design/fastdvdnet/15-480p-3s_1_10sigma_result \\\n",
        "  /content/drive/My\\ Drive/graduation_design/fastdvdnet/15-480p-3s_1_10sigma_result\n"
      ],
      "execution_count": 0,
      "outputs": []
    },
    {
      "cell_type": "markdown",
      "metadata": {
        "id": "l479B_imm9Ct",
        "colab_type": "text"
      },
      "source": [
        ""
      ]
    },
    {
      "cell_type": "code",
      "metadata": {
        "id": "M1LtYF6nodxN",
        "colab_type": "code",
        "colab": {}
      },
      "source": [
        "!cp -r /content/drive/My\\ Drive/graduation_design/fastdvdnet/15-480p-3s_1_10sigma_result /content/n10"
      ],
      "execution_count": 0,
      "outputs": []
    },
    {
      "cell_type": "code",
      "metadata": {
        "id": "7wwZl_h4pUfa",
        "colab_type": "code",
        "outputId": "4dbd6fdb-81c5-40c7-fd7a-f085d4bfa4e5",
        "colab": {
          "base_uri": "https://localhost:8080/",
          "height": 34
        }
      },
      "source": [
        "%cd /content/drive/My Drive/graduation_design/fastdvdnet"
      ],
      "execution_count": 0,
      "outputs": [
        {
          "output_type": "stream",
          "text": [
            "/content/drive/My Drive/graduation_design/fastdvdnet\n"
          ],
          "name": "stdout"
        }
      ]
    },
    {
      "cell_type": "code",
      "metadata": {
        "id": "Xz1OSEY5tIOd",
        "colab_type": "code",
        "outputId": "da3fe9d1-3426-440f-fd96-8185b3a7dc0b",
        "colab": {
          "base_uri": "https://localhost:8080/",
          "height": 709
        }
      },
      "source": [
        "!ffmpeg -loop 1 -f image2 -y -r 15 -i /content/drive/My\\ Drive/graduation_design/fastdvdnet/15-480p-3s_1_10sigma_result/n10_FastDVDnet_%2d.png -vcodec libx264 -g 4 -pix_fmt yuv420p -crf 15 -an test.mp4"
      ],
      "execution_count": 0,
      "outputs": [
        {
          "output_type": "stream",
          "text": [
            "ffmpeg version 3.4.6-0ubuntu0.18.04.1 Copyright (c) 2000-2019 the FFmpeg developers\n",
            "  built with gcc 7 (Ubuntu 7.3.0-16ubuntu3)\n",
            "  configuration: --prefix=/usr --extra-version=0ubuntu0.18.04.1 --toolchain=hardened --libdir=/usr/lib/x86_64-linux-gnu --incdir=/usr/include/x86_64-linux-gnu --enable-gpl --disable-stripping --enable-avresample --enable-avisynth --enable-gnutls --enable-ladspa --enable-libass --enable-libbluray --enable-libbs2b --enable-libcaca --enable-libcdio --enable-libflite --enable-libfontconfig --enable-libfreetype --enable-libfribidi --enable-libgme --enable-libgsm --enable-libmp3lame --enable-libmysofa --enable-libopenjpeg --enable-libopenmpt --enable-libopus --enable-libpulse --enable-librubberband --enable-librsvg --enable-libshine --enable-libsnappy --enable-libsoxr --enable-libspeex --enable-libssh --enable-libtheora --enable-libtwolame --enable-libvorbis --enable-libvpx --enable-libwavpack --enable-libwebp --enable-libx265 --enable-libxml2 --enable-libxvid --enable-libzmq --enable-libzvbi --enable-omx --enable-openal --enable-opengl --enable-sdl2 --enable-libdc1394 --enable-libdrm --enable-libiec61883 --enable-chromaprint --enable-frei0r --enable-libopencv --enable-libx264 --enable-shared\n",
            "  libavutil      55. 78.100 / 55. 78.100\n",
            "  libavcodec     57.107.100 / 57.107.100\n",
            "  libavformat    57. 83.100 / 57. 83.100\n",
            "  libavdevice    57. 10.100 / 57. 10.100\n",
            "  libavfilter     6.107.100 /  6.107.100\n",
            "  libavresample   3.  7.  0 /  3.  7.  0\n",
            "  libswscale      4.  8.100 /  4.  8.100\n",
            "  libswresample   2.  9.100 /  2.  9.100\n",
            "  libpostproc    54.  7.100 / 54.  7.100\n",
            "Input #0, image2, from '/content/drive/My Drive/graduation_design/fastdvdnet/15-480p-3s_1_10sigma_result/n10_FastDVDnet_%2d.png':\n",
            "  Duration: 00:00:03.00, start: 0.000000, bitrate: N/A\n",
            "    Stream #0:0: Video: png, rgb24(pc), 720x480, 15 fps, 15 tbr, 15 tbn, 15 tbc\n",
            "Stream mapping:\n",
            "  Stream #0:0 -> #0:0 (png (native) -> h264 (libx264))\n",
            "Press [q] to stop, [?] for help\n",
            "\u001b[1;36m[libx264 @ 0x55999979fe00] \u001b[0musing cpu capabilities: MMX2 SSE2Fast SSSE3 SSE4.2 AVX FMA3 BMI2 AVX2\n",
            "\u001b[1;36m[libx264 @ 0x55999979fe00] \u001b[0mprofile High, level 2.2\n",
            "\u001b[1;36m[libx264 @ 0x55999979fe00] \u001b[0m264 - core 152 r2854 e9a5903 - H.264/MPEG-4 AVC codec - Copyleft 2003-2017 - http://www.videolan.org/x264.html - options: cabac=1 ref=3 deblock=1:0:0 analyse=0x3:0x113 me=hex subme=7 psy=1 psy_rd=1.00:0.00 mixed_ref=1 me_range=16 chroma_me=1 trellis=1 8x8dct=1 cqm=0 deadzone=21,11 fast_pskip=1 chroma_qp_offset=-2 threads=3 lookahead_threads=1 sliced_threads=0 nr=0 decimate=1 interlaced=0 bluray_compat=0 constrained_intra=0 bframes=3 b_pyramid=2 b_adapt=1 b_bias=0 direct=1 weightb=1 open_gop=0 weightp=2 keyint=4 keyint_min=1 scenecut=40 intra_refresh=0 rc_lookahead=4 rc=crf mbtree=1 crf=15.0 qcomp=0.60 qpmin=0 qpmax=69 qpstep=4 ip_ratio=1.40 aq=1:1.00\n",
            "Output #0, mp4, to 'test.mp4':\n",
            "  Metadata:\n",
            "    encoder         : Lavf57.83.100\n",
            "    Stream #0:0: Video: h264 (libx264) (avc1 / 0x31637661), yuv420p, 720x480, q=-1--1, 15 fps, 15360 tbn, 15 tbc\n",
            "    Metadata:\n",
            "      encoder         : Lavc57.107.100 libx264\n",
            "    Side data:\n",
            "      cpb: bitrate max/min/avg: 0/0/0 buffer size: 0 vbv_delay: -1\n",
            "key    function\n",
            "?      show this help\n",
            "+      increase verbosity\n",
            "-      decrease verbosity\n",
            "c      Send command to first matching filter supporting it\n",
            "C      Send/Queue command to all matching filters\n",
            "D      cycle through available debug modes\n",
            "h      dump packets/hex press to cycle through the 3 states\n",
            "q      quit\n",
            "s      Show QP histogram\n",
            "^C\n"
          ],
          "name": "stdout"
        }
      ]
    },
    {
      "cell_type": "code",
      "metadata": {
        "id": "zCVMOYK1nFYh",
        "colab_type": "code",
        "outputId": "73d2d67d-5621-42f3-bda9-d74b09a17b1c",
        "colab": {
          "base_uri": "https://localhost:8080/",
          "height": 423
        }
      },
      "source": [
        "!ffmpeg -y -i /content/drive/My\\ Drive/graduation_design/fastdvdnet/15-480p-3s_1_10sigma_result/n10_FastDVDnet_0.png -c:v libx264 -g 4 -profile:v high -crf 15 -an /content/drive/My\\ Drive/graduation_design/fastdvdnet/15-480p-3s_1_10sigma_result/n10.mp4"
      ],
      "execution_count": 0,
      "outputs": [
        {
          "output_type": "stream",
          "text": [
            "ffmpeg version 3.4.6-0ubuntu0.18.04.1 Copyright (c) 2000-2019 the FFmpeg developers\n",
            "  built with gcc 7 (Ubuntu 7.3.0-16ubuntu3)\n",
            "  configuration: --prefix=/usr --extra-version=0ubuntu0.18.04.1 --toolchain=hardened --libdir=/usr/lib/x86_64-linux-gnu --incdir=/usr/include/x86_64-linux-gnu --enable-gpl --disable-stripping --enable-avresample --enable-avisynth --enable-gnutls --enable-ladspa --enable-libass --enable-libbluray --enable-libbs2b --enable-libcaca --enable-libcdio --enable-libflite --enable-libfontconfig --enable-libfreetype --enable-libfribidi --enable-libgme --enable-libgsm --enable-libmp3lame --enable-libmysofa --enable-libopenjpeg --enable-libopenmpt --enable-libopus --enable-libpulse --enable-librubberband --enable-librsvg --enable-libshine --enable-libsnappy --enable-libsoxr --enable-libspeex --enable-libssh --enable-libtheora --enable-libtwolame --enable-libvorbis --enable-libvpx --enable-libwavpack --enable-libwebp --enable-libx265 --enable-libxml2 --enable-libxvid --enable-libzmq --enable-libzvbi --enable-omx --enable-openal --enable-opengl --enable-sdl2 --enable-libdc1394 --enable-libdrm --enable-libiec61883 --enable-chromaprint --enable-frei0r --enable-libopencv --enable-libx264 --enable-shared\n",
            "  libavutil      55. 78.100 / 55. 78.100\n",
            "  libavcodec     57.107.100 / 57.107.100\n",
            "  libavformat    57. 83.100 / 57. 83.100\n",
            "  libavdevice    57. 10.100 / 57. 10.100\n",
            "  libavfilter     6.107.100 /  6.107.100\n",
            "  libavresample   3.  7.  0 /  3.  7.  0\n",
            "  libswscale      4.  8.100 /  4.  8.100\n",
            "  libswresample   2.  9.100 /  2.  9.100\n",
            "  libpostproc    54.  7.100 / 54.  7.100\n",
            "Input #0, png_pipe, from '/content/drive/My Drive/graduation_design/fastdvdnet/15-480p-3s_1_10sigma_result/n10_FastDVDnet_0.png':\n",
            "  Duration: N/A, bitrate: N/A\n",
            "    Stream #0:0: Video: png, rgb24(pc), 720x480, 25 tbr, 25 tbn, 25 tbc\n",
            "Stream mapping:\n",
            "  Stream #0:0 -> #0:0 (png (native) -> h264 (libx264))\n",
            "Press [q] to stop, [?] for help\n",
            "x264 [error]: high profile doesn't support 4:4:4\n",
            "\u001b[1;36m[libx264 @ 0x556e4258be00] \u001b[0m\u001b[1;31mError setting profile high.\n",
            "\u001b[0m\u001b[1;36m[libx264 @ 0x556e4258be00] \u001b[0mPossible profiles: baseline main high high10 high422 high444\n",
            "\u001b[1;31mError initializing output stream 0:0 -- Error while opening encoder for output stream #0:0 - maybe incorrect parameters such as bit_rate, rate, width or height\n",
            "\u001b[0mConversion failed!\n"
          ],
          "name": "stdout"
        }
      ]
    },
    {
      "cell_type": "markdown",
      "metadata": {
        "id": "Pg-hZZeWBIWB",
        "colab_type": "text"
      },
      "source": [
        "# 转化成YUV\n"
      ]
    },
    {
      "cell_type": "code",
      "metadata": {
        "id": "1drm8-JVCKRu",
        "colab_type": "code",
        "outputId": "f47cb0a5-8146-4fa8-af47-080142ba18db",
        "colab": {
          "base_uri": "https://localhost:8080/",
          "height": 104
        }
      },
      "source": [
        "!python decode_stream.py /content/drive/My\\ Drive/graduation_design/fastdvdnet/DVQA_Data /content/drive/My\\ Drive/graduation_design/fastdvdnet/DVQA_Data"
      ],
      "execution_count": 0,
      "outputs": [
        {
          "output_type": "stream",
          "text": [
            "decoding /content/drive/My Drive/graduation_design/fastdvdnet/DVQA_Data/ref.mp4\n",
            "ffmpeg -i /content/drive/My Drive/graduation_design/fastdvdnet/DVQA_Data/ref.mp4 -f rawvideo -pix_fmt yuv420p -an -vsync 0 -y /content/drive/My Drive/graduation_design/fastdvdnet/DVQA_Data/ref.yuv\n",
            "decoding /content/drive/My Drive/graduation_design/fastdvdnet/DVQA_Data/n10_fast_dis.mp4\n",
            "ffmpeg -i /content/drive/My Drive/graduation_design/fastdvdnet/DVQA_Data/n10_fast_dis.mp4 -f rawvideo -pix_fmt yuv420p -an -vsync 0 -y /content/drive/My Drive/graduation_design/fastdvdnet/DVQA_Data/n10_fast_dis.yuv\n"
          ],
          "name": "stdout"
        }
      ]
    },
    {
      "cell_type": "code",
      "metadata": {
        "id": "TzarXOO1DNAc",
        "colab_type": "code",
        "outputId": "2be361a9-584c-450d-e1ac-54a0bb2674e0",
        "colab": {
          "base_uri": "https://localhost:8080/",
          "height": 776
        }
      },
      "source": [
        "!ffmpeg -i /content/drive/My\\ Drive/graduation_design/fastdvdnet/DVQA_Data/n10_fast_dis.mp4 -f rawvideo -vcodec rawvideo -pix_fmt yuv420p  -an -vsync 0 -y  n10_fast_dis.yuv"
      ],
      "execution_count": 0,
      "outputs": [
        {
          "output_type": "stream",
          "text": [
            "ffmpeg version 3.4.6-0ubuntu0.18.04.1 Copyright (c) 2000-2019 the FFmpeg developers\n",
            "  built with gcc 7 (Ubuntu 7.3.0-16ubuntu3)\n",
            "  configuration: --prefix=/usr --extra-version=0ubuntu0.18.04.1 --toolchain=hardened --libdir=/usr/lib/x86_64-linux-gnu --incdir=/usr/include/x86_64-linux-gnu --enable-gpl --disable-stripping --enable-avresample --enable-avisynth --enable-gnutls --enable-ladspa --enable-libass --enable-libbluray --enable-libbs2b --enable-libcaca --enable-libcdio --enable-libflite --enable-libfontconfig --enable-libfreetype --enable-libfribidi --enable-libgme --enable-libgsm --enable-libmp3lame --enable-libmysofa --enable-libopenjpeg --enable-libopenmpt --enable-libopus --enable-libpulse --enable-librubberband --enable-librsvg --enable-libshine --enable-libsnappy --enable-libsoxr --enable-libspeex --enable-libssh --enable-libtheora --enable-libtwolame --enable-libvorbis --enable-libvpx --enable-libwavpack --enable-libwebp --enable-libx265 --enable-libxml2 --enable-libxvid --enable-libzmq --enable-libzvbi --enable-omx --enable-openal --enable-opengl --enable-sdl2 --enable-libdc1394 --enable-libdrm --enable-libiec61883 --enable-chromaprint --enable-frei0r --enable-libopencv --enable-libx264 --enable-shared\n",
            "  libavutil      55. 78.100 / 55. 78.100\n",
            "  libavcodec     57.107.100 / 57.107.100\n",
            "  libavformat    57. 83.100 / 57. 83.100\n",
            "  libavdevice    57. 10.100 / 57. 10.100\n",
            "  libavfilter     6.107.100 /  6.107.100\n",
            "  libavresample   3.  7.  0 /  3.  7.  0\n",
            "  libswscale      4.  8.100 /  4.  8.100\n",
            "  libswresample   2.  9.100 /  2.  9.100\n",
            "  libpostproc    54.  7.100 / 54.  7.100\n",
            "Input #0, mov,mp4,m4a,3gp,3g2,mj2, from '/content/drive/My Drive/graduation_design/fastdvdnet/DVQA_Data/n10_fast_dis.mp4':\n",
            "  Metadata:\n",
            "    major_brand     : mp42\n",
            "    minor_version   : 0\n",
            "    compatible_brands: mp42mp41\n",
            "    creation_time   : 2020-05-27T21:20:25.000000Z\n",
            "  Duration: 00:00:03.05, start: 0.000000, bitrate: 6244 kb/s\n",
            "    Stream #0:0(eng): Video: h264 (Main) (avc1 / 0x31637661), yuv420p(tv, smpte170m), 720x480, 5993 kb/s, 15 fps, 15 tbr, 30k tbn, 30 tbc (default)\n",
            "    Metadata:\n",
            "      creation_time   : 2020-05-27T21:20:25.000000Z\n",
            "      handler_name    : Alias Data Handler\n",
            "      encoder         : AVC Coding\n",
            "    Stream #0:1(eng): Audio: aac (LC) (mp4a / 0x6134706D), 48000 Hz, stereo, fltp, 317 kb/s (default)\n",
            "    Metadata:\n",
            "      creation_time   : 2020-05-27T21:20:25.000000Z\n",
            "      handler_name    : Alias Data Handler\n",
            "Stream mapping:\n",
            "  Stream #0:0 -> #0:0 (h264 (native) -> rawvideo (native))\n",
            "Press [q] to stop, [?] for help\n",
            "Output #0, rawvideo, to 'n10_fast_dis.yuv':\n",
            "  Metadata:\n",
            "    major_brand     : mp42\n",
            "    minor_version   : 0\n",
            "    compatible_brands: mp42mp41\n",
            "    encoder         : Lavf57.83.100\n",
            "    Stream #0:0(eng): Video: rawvideo (I420 / 0x30323449), yuv420p, 720x480, q=2-31, 62208 kb/s, 15 fps, 15 tbn, 15 tbc (default)\n",
            "    Metadata:\n",
            "      creation_time   : 2020-05-27T21:20:25.000000Z\n",
            "      handler_name    : Alias Data Handler\n",
            "      encoder         : Lavc57.107.100 rawvideo\n",
            "frame=   45 fps=0.0 q=-0.0 Lsize=   22781kB time=00:00:03.00 bitrate=62208.0kbits/s speed=13.4x    \n",
            "video:22781kB audio:0kB subtitle:0kB other streams:0kB global headers:0kB muxing overhead: 0.000000%\n"
          ],
          "name": "stdout"
        }
      ]
    },
    {
      "cell_type": "code",
      "metadata": {
        "id": "n5o7vUJaFav9",
        "colab_type": "code",
        "outputId": "2e13af19-dd7b-4ee0-83b0-56cd9bb90b37",
        "colab": {
          "base_uri": "https://localhost:8080/",
          "height": 776
        }
      },
      "source": [
        "!ffmpeg -i /content/drive/My\\ Drive/graduation_design/fastdvdnet/DVQA_Data/ref.mp4 -f rawvideo -vcodec rawvideo -pix_fmt yuv420p  -an -vsync 0 -y  DVQA_Data/ref.yuv"
      ],
      "execution_count": 0,
      "outputs": [
        {
          "output_type": "stream",
          "text": [
            "ffmpeg version 3.4.6-0ubuntu0.18.04.1 Copyright (c) 2000-2019 the FFmpeg developers\n",
            "  built with gcc 7 (Ubuntu 7.3.0-16ubuntu3)\n",
            "  configuration: --prefix=/usr --extra-version=0ubuntu0.18.04.1 --toolchain=hardened --libdir=/usr/lib/x86_64-linux-gnu --incdir=/usr/include/x86_64-linux-gnu --enable-gpl --disable-stripping --enable-avresample --enable-avisynth --enable-gnutls --enable-ladspa --enable-libass --enable-libbluray --enable-libbs2b --enable-libcaca --enable-libcdio --enable-libflite --enable-libfontconfig --enable-libfreetype --enable-libfribidi --enable-libgme --enable-libgsm --enable-libmp3lame --enable-libmysofa --enable-libopenjpeg --enable-libopenmpt --enable-libopus --enable-libpulse --enable-librubberband --enable-librsvg --enable-libshine --enable-libsnappy --enable-libsoxr --enable-libspeex --enable-libssh --enable-libtheora --enable-libtwolame --enable-libvorbis --enable-libvpx --enable-libwavpack --enable-libwebp --enable-libx265 --enable-libxml2 --enable-libxvid --enable-libzmq --enable-libzvbi --enable-omx --enable-openal --enable-opengl --enable-sdl2 --enable-libdc1394 --enable-libdrm --enable-libiec61883 --enable-chromaprint --enable-frei0r --enable-libopencv --enable-libx264 --enable-shared\n",
            "  libavutil      55. 78.100 / 55. 78.100\n",
            "  libavcodec     57.107.100 / 57.107.100\n",
            "  libavformat    57. 83.100 / 57. 83.100\n",
            "  libavdevice    57. 10.100 / 57. 10.100\n",
            "  libavfilter     6.107.100 /  6.107.100\n",
            "  libavresample   3.  7.  0 /  3.  7.  0\n",
            "  libswscale      4.  8.100 /  4.  8.100\n",
            "  libswresample   2.  9.100 /  2.  9.100\n",
            "  libpostproc    54.  7.100 / 54.  7.100\n",
            "Input #0, mov,mp4,m4a,3gp,3g2,mj2, from '/content/drive/My Drive/graduation_design/fastdvdnet/DVQA_Data/ref.mp4':\n",
            "  Metadata:\n",
            "    major_brand     : mp42\n",
            "    minor_version   : 0\n",
            "    compatible_brands: mp42mp41\n",
            "    creation_time   : 2020-03-18T21:10:51.000000Z\n",
            "  Duration: 00:00:03.05, start: 0.000000, bitrate: 3084 kb/s\n",
            "    Stream #0:0(eng): Video: h264 (High) (avc1 / 0x31637661), yuv420p(tv, smpte170m), 720x480 [SAR 1:1 DAR 3:2], 2779 kb/s, 15 fps, 15 tbr, 30k tbn, 30 tbc (default)\n",
            "    Metadata:\n",
            "      creation_time   : 2020-03-18T21:10:51.000000Z\n",
            "      handler_name    : Alias Data Handler\n",
            "      encoder         : AVC Coding\n",
            "    Stream #0:1(eng): Audio: aac (LC) (mp4a / 0x6134706D), 48000 Hz, stereo, fltp, 317 kb/s (default)\n",
            "    Metadata:\n",
            "      creation_time   : 2020-03-18T21:10:51.000000Z\n",
            "      handler_name    : Alias Data Handler\n",
            "Stream mapping:\n",
            "  Stream #0:0 -> #0:0 (h264 (native) -> rawvideo (native))\n",
            "Press [q] to stop, [?] for help\n",
            "Output #0, rawvideo, to 'DVQA_Data/ref.yuv':\n",
            "  Metadata:\n",
            "    major_brand     : mp42\n",
            "    minor_version   : 0\n",
            "    compatible_brands: mp42mp41\n",
            "    encoder         : Lavf57.83.100\n",
            "    Stream #0:0(eng): Video: rawvideo (I420 / 0x30323449), yuv420p, 720x480 [SAR 1:1 DAR 3:2], q=2-31, 62208 kb/s, 15 fps, 15 tbn, 15 tbc (default)\n",
            "    Metadata:\n",
            "      creation_time   : 2020-03-18T21:10:51.000000Z\n",
            "      handler_name    : Alias Data Handler\n",
            "      encoder         : Lavc57.107.100 rawvideo\n",
            "frame=   45 fps=0.0 q=-0.0 Lsize=   22781kB time=00:00:03.00 bitrate=62208.0kbits/s speed=20.2x    \n",
            "video:22781kB audio:0kB subtitle:0kB other streams:0kB global headers:0kB muxing overhead: 0.000000%\n"
          ],
          "name": "stdout"
        }
      ]
    },
    {
      "cell_type": "markdown",
      "metadata": {
        "id": "dGtpxNc1yM3f",
        "colab_type": "text"
      },
      "source": [
        "# Opencv处理mp4转为图像序列"
      ]
    },
    {
      "cell_type": "code",
      "metadata": {
        "id": "wlAOyFIOydZS",
        "colab_type": "code",
        "outputId": "fb016bfc-3272-4eb4-bd5d-b7eab48e49f9",
        "colab": {
          "base_uri": "https://localhost:8080/",
          "height": 790
        }
      },
      "source": [
        "# Importing all necessary libraries \n",
        "import cv2 \n",
        "import os \n",
        "  \n",
        "# Read the video from specified path \n",
        "cam = cv2.VideoCapture(\"rawdata/ground-of-truth_15-480p-3s_3.mp4\") \n",
        "  \n",
        "try: \n",
        "      \n",
        "    # creating a folder named data \n",
        "    if not os.path.exists('data/ground-of-truth_15-480p-3s_3'): \n",
        "        os.makedirs('data/ground-of-truth_15-480p-3s_3') \n",
        "  \n",
        "# if not created then raise error \n",
        "except OSError: \n",
        "    print ('Error: Creating directory of data') \n",
        "  \n",
        "# frame \n",
        "currentframe = 0\n",
        "  \n",
        "while(True): \n",
        "      \n",
        "    # reading from frame \n",
        "    ret,frame = cam.read() \n",
        "  \n",
        "    if ret: \n",
        "        # if video is still left continue creating images \n",
        "        name = 'data/ground-of-truth_15-480p-3s_3/frame' + str(currentframe) + '.png'\n",
        "        print ('Creating...' + name) \n",
        "       \n",
        "        # writing the extracted images \n",
        "        cv2.imwrite(name, frame, [int(cv2.IMWRITE_PNG_COMPRESSION), 0]) \n",
        "  \n",
        "        # increasing counter so that it will \n",
        "        # show how many frames are created \n",
        "        currentframe += 1\n",
        "    else: \n",
        "        break\n",
        "  \n",
        "# Release all space and windows once done \n",
        "cam.release() \n",
        "cv2.destroyAllWindows() "
      ],
      "execution_count": 0,
      "outputs": [
        {
          "output_type": "stream",
          "text": [
            "Creating...data/ground-of-truth_15-480p-3s_3/frame0.png\n",
            "Creating...data/ground-of-truth_15-480p-3s_3/frame1.png\n",
            "Creating...data/ground-of-truth_15-480p-3s_3/frame2.png\n",
            "Creating...data/ground-of-truth_15-480p-3s_3/frame3.png\n",
            "Creating...data/ground-of-truth_15-480p-3s_3/frame4.png\n",
            "Creating...data/ground-of-truth_15-480p-3s_3/frame5.png\n",
            "Creating...data/ground-of-truth_15-480p-3s_3/frame6.png\n",
            "Creating...data/ground-of-truth_15-480p-3s_3/frame7.png\n",
            "Creating...data/ground-of-truth_15-480p-3s_3/frame8.png\n",
            "Creating...data/ground-of-truth_15-480p-3s_3/frame9.png\n",
            "Creating...data/ground-of-truth_15-480p-3s_3/frame10.png\n",
            "Creating...data/ground-of-truth_15-480p-3s_3/frame11.png\n",
            "Creating...data/ground-of-truth_15-480p-3s_3/frame12.png\n",
            "Creating...data/ground-of-truth_15-480p-3s_3/frame13.png\n",
            "Creating...data/ground-of-truth_15-480p-3s_3/frame14.png\n",
            "Creating...data/ground-of-truth_15-480p-3s_3/frame15.png\n",
            "Creating...data/ground-of-truth_15-480p-3s_3/frame16.png\n",
            "Creating...data/ground-of-truth_15-480p-3s_3/frame17.png\n",
            "Creating...data/ground-of-truth_15-480p-3s_3/frame18.png\n",
            "Creating...data/ground-of-truth_15-480p-3s_3/frame19.png\n",
            "Creating...data/ground-of-truth_15-480p-3s_3/frame20.png\n",
            "Creating...data/ground-of-truth_15-480p-3s_3/frame21.png\n",
            "Creating...data/ground-of-truth_15-480p-3s_3/frame22.png\n",
            "Creating...data/ground-of-truth_15-480p-3s_3/frame23.png\n",
            "Creating...data/ground-of-truth_15-480p-3s_3/frame24.png\n",
            "Creating...data/ground-of-truth_15-480p-3s_3/frame25.png\n",
            "Creating...data/ground-of-truth_15-480p-3s_3/frame26.png\n",
            "Creating...data/ground-of-truth_15-480p-3s_3/frame27.png\n",
            "Creating...data/ground-of-truth_15-480p-3s_3/frame28.png\n",
            "Creating...data/ground-of-truth_15-480p-3s_3/frame29.png\n",
            "Creating...data/ground-of-truth_15-480p-3s_3/frame30.png\n",
            "Creating...data/ground-of-truth_15-480p-3s_3/frame31.png\n",
            "Creating...data/ground-of-truth_15-480p-3s_3/frame32.png\n",
            "Creating...data/ground-of-truth_15-480p-3s_3/frame33.png\n",
            "Creating...data/ground-of-truth_15-480p-3s_3/frame34.png\n",
            "Creating...data/ground-of-truth_15-480p-3s_3/frame35.png\n",
            "Creating...data/ground-of-truth_15-480p-3s_3/frame36.png\n",
            "Creating...data/ground-of-truth_15-480p-3s_3/frame37.png\n",
            "Creating...data/ground-of-truth_15-480p-3s_3/frame38.png\n",
            "Creating...data/ground-of-truth_15-480p-3s_3/frame39.png\n",
            "Creating...data/ground-of-truth_15-480p-3s_3/frame40.png\n",
            "Creating...data/ground-of-truth_15-480p-3s_3/frame41.png\n",
            "Creating...data/ground-of-truth_15-480p-3s_3/frame42.png\n",
            "Creating...data/ground-of-truth_15-480p-3s_3/frame43.png\n",
            "Creating...data/ground-of-truth_15-480p-3s_3/frame44.png\n",
            "Creating...data/ground-of-truth_15-480p-3s_3/frame45.png\n"
          ],
          "name": "stdout"
        }
      ]
    },
    {
      "cell_type": "code",
      "metadata": {
        "id": "mzN8HoEW6XEB",
        "colab_type": "code",
        "colab": {}
      },
      "source": [
        "!python convert_sequences_mp4.py dataset/val/bear dataset/gt/bear"
      ],
      "execution_count": 0,
      "outputs": []
    },
    {
      "cell_type": "code",
      "metadata": {
        "id": "glSxsWIi8TlK",
        "colab_type": "code",
        "colab": {}
      },
      "source": [
        "!ffmpeg -f image2 -i dataset/val/bear/%5d.jpg  -vcodec libx264  -profile:v high dataset/gt/bear.mp4"
      ],
      "execution_count": 0,
      "outputs": []
    }
  ]
}